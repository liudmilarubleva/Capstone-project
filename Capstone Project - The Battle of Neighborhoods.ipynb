{
    "cells": [
        {
            "cell_type": "markdown",
            "metadata": {
                "collapsed": true
            },
            "source": "## Introduction"
        },
        {
            "cell_type": "markdown",
            "metadata": {},
            "source": "The goal of this project will be to select the most suitable area in Hamburg for the opening of the restaurant. "
        },
        {
            "cell_type": "markdown",
            "metadata": {},
            "source": "## Business Problem"
        },
        {
            "cell_type": "markdown",
            "metadata": {},
            "source": "Choosing a place is one of the most important tasks when opening a restaurant. A correctly chosen place for a restaurant will provide the stakeholders with stable traffic and profits. Of course, one needs to see which projects are already on the food court or on the street. If there are many crossings, it is important to check whether they are competitors by check and by product quality. Secondly, it is also important to consider whether there will be underground exits and facilities near the restaurant - whether there are business centres, universities, etc.  The traffic situation must always be taken into account. If one cannot get from the subway to the shopping centre in a couple of minutes, one can cross out the option immediately. Water supply, sewerage and the necessary electrical power is another very important issue. \u00a0Mostly such problems arise in old office buildings or residential buildings. Also, if a restaurant opens in an apartment building, one should always think about well-being of the residents. Any complaints about the music played loudly are likely to end up with tenants contacting the relevant authorities. Another common problem with living quarters in apartment buildings is the lack of supply and exhaust ventilation. There are oftebn fabulous lokations for rent, but they do not have a hood or have no ventilation system. Last but not least, there is the external attractiveness of the facade of the building, which also plays an important role in choosing the location. "
        },
        {
            "cell_type": "markdown",
            "metadata": {},
            "source": "## Data"
        },
        {
            "cell_type": "markdown",
            "metadata": {},
            "source": "Foursquare location data will be the main tool for problem solving and its implementation. By identifying the main customer needs and focusing on the problems described above, I will create an approximate portrait of the ideal place to do the business. Then a data set will be compiled about the Hamburg districts. The data will be converted into Dataframe with the help of Panda. Then those areas will be removed that are not conducive to doing business and those areas that are full of other restaurants. Once the most suitable areas have been found, the most popular places will be identified. Using the Geopy library will help recognize the nearest neighbours as well as the remoteness of the underground and parking spaces. Another visualisation tool will be the Folium Library, which will help to identify the main favourites. \n"
        }
    ],
    "metadata": {
        "kernelspec": {
            "display_name": "Python 3.7",
            "language": "python",
            "name": "python3"
        },
        "language_info": {
            "codemirror_mode": {
                "name": "ipython",
                "version": 3
            },
            "file_extension": ".py",
            "mimetype": "text/x-python",
            "name": "python",
            "nbconvert_exporter": "python",
            "pygments_lexer": "ipython3",
            "version": "3.7.9"
        }
    },
    "nbformat": 4,
    "nbformat_minor": 1
}